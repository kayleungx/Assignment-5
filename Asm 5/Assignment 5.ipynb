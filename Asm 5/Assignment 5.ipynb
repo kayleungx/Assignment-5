{
 "cells": [
  {
   "cell_type": "code",
   "execution_count": null,
   "id": "8c7239f0",
   "metadata": {
    "scrolled": false
   },
   "outputs": [
    {
     "name": "stdout",
     "output_type": "stream",
     "text": [
      " * Serving Flask app \"__main__\" (lazy loading)\n",
      " * Environment: production\n",
      "\u001b[31m   WARNING: This is a development server. Do not use it in a production deployment.\u001b[0m\n",
      "\u001b[2m   Use a production WSGI server instead.\u001b[0m\n",
      " * Debug mode: off\n"
     ]
    },
    {
     "name": "stderr",
     "output_type": "stream",
     "text": [
      " * Running on http://localhost:9003/ (Press CTRL+C to quit)\n",
      "127.0.0.1 - - [17/Oct/2021 14:47:32] \"\u001b[37mGET / HTTP/1.1\u001b[0m\" 200 -\n",
      "127.0.0.1 - - [17/Oct/2021 14:47:37] \"\u001b[37mGET /blogs HTTP/1.1\u001b[0m\" 200 -\n"
     ]
    }
   ],
   "source": [
    "\n",
    "from flask import Flask, render_template, redirect, url_for \n",
    "import pandas as pd\n",
    "\n",
    "app = Flask(__name__)\n",
    "    \n",
    "\n",
    "@app.route(\"/\")\n",
    "def index():\n",
    "    tourism = [{'Spot': \"Moral Sin Tong\", 'Type': \"Heritage\",'Distance': 0.2},\n",
    "              {'Spot': \"Finger Hill\",  'Type': \"Mountain\", 'Distance': 0.3},\n",
    "              {'Spot': \"Tung Wan Beach\",  'Type': \"Beach\", 'Distance': 0.3}]\n",
    "    \n",
    "    df = pd.DataFrame(tourism)\n",
    "    df.to_csv('tourism.csv',mode='w',index=False)\n",
    "    df = pd.read_csv(\"tourism.csv\")\n",
    "    list = df.to_dict('records')\n",
    "    \n",
    "    return render_template('index.html', entries = tourism)\n",
    "\n",
    "\n",
    "\n",
    "@app.route(\"/blogs\")\n",
    "def blogs():\n",
    "    tourism1 = [{'Spot': \"Moral Sin Tong\", 'Type': \"Heritage\",'Distance': 0.2},\n",
    "              {'Spot': \"Finger Hill\",  'Type': \"Mountain\", 'Distance': 0.3},\n",
    "              {'Spot': \"Tung Wan Beach\",  'Type': \"Beach\", 'Distance': 0.3}]\n",
    "    \n",
    "    df = pd.DataFrame(tourism1)\n",
    "    df.to_csv('tourism1.csv', mode = 'w', index=False)\n",
    "    df = pd.read_csv(\"tourism1.csv\")\n",
    "    list = df.to_dict('records')\n",
    "    return render_template ('blogs.html', entries = tourism1)\n",
    "\n",
    "@app.route(\"/about\")\n",
    "def about():\n",
    "    return render_template('about.html')\n",
    "\n",
    "@app.route(\"/contact\")\n",
    "def contact():\n",
    "    return render_template('contact.html')\n",
    "\n",
    "\n",
    "@app.errorhandler(404)\n",
    "def page_not_found(e):\n",
    "    return render_template('404.html'), 404\n",
    "\n",
    "\n",
    "\n",
    "if __name__ == '__main__':\n",
    "    app.run('localhost',9003)"
   ]
  },
  {
   "cell_type": "code",
   "execution_count": null,
   "id": "87d60c7b",
   "metadata": {},
   "outputs": [],
   "source": []
  },
  {
   "cell_type": "code",
   "execution_count": null,
   "id": "9f7136f9",
   "metadata": {},
   "outputs": [],
   "source": []
  }
 ],
 "metadata": {
  "kernelspec": {
   "display_name": "Python 3",
   "language": "python",
   "name": "python3"
  },
  "language_info": {
   "codemirror_mode": {
    "name": "ipython",
    "version": 3
   },
   "file_extension": ".py",
   "mimetype": "text/x-python",
   "name": "python",
   "nbconvert_exporter": "python",
   "pygments_lexer": "ipython3",
   "version": "3.8.8"
  }
 },
 "nbformat": 4,
 "nbformat_minor": 5
}
